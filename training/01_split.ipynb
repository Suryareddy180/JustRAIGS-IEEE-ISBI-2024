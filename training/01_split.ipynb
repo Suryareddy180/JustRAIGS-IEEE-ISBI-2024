{
 "cells": [
  {
   "cell_type": "code",
   "execution_count": 1,
   "id": "5284c696-f45b-4522-be05-c1d9e9e51693",
   "metadata": {},
   "outputs": [],
   "source": [
    "import pandas as pd\n",
    "import glob\n",
    "from matplotlib import pyplot as plt\n",
    "import os\n",
    "import cv2\n",
    "import seaborn as sns\n",
    "from sklearn.model_selection import train_test_split, GroupShuffleSplit\n",
    "import numpy as np\n",
    "from sklearn.model_selection import StratifiedKFold, StratifiedGroupKFold\n",
    "seed = 2024"
   ]
  },
  {
   "cell_type": "code",
   "execution_count": 2,
   "id": "4a7c00e4-272e-484b-9310-f950271da9f3",
   "metadata": {},
   "outputs": [],
   "source": [
    "df_train = pd.read_csv('JustRAIGS_Train_labels_PREPARED.csv')"
   ]
  },
  {
   "cell_type": "code",
   "execution_count": 3,
   "id": "23be6bce-ee3f-4147-ba10-bf5b7187a64a",
   "metadata": {},
   "outputs": [],
   "source": [
    "assert len(df_train) == 101423 "
   ]
  },
  {
   "cell_type": "markdown",
   "id": "59090e7c-b963-4b49-8fb3-a5be4d8ccd09",
   "metadata": {},
   "source": [
    "# Split without test set, grouped by PID"
   ]
  },
  {
   "cell_type": "code",
   "execution_count": 4,
   "id": "166aecbc-4c28-4803-8afb-b5c4321c65c2",
   "metadata": {},
   "outputs": [
    {
     "name": "stdout",
     "output_type": "stream",
     "text": [
      "StratifiedGroupKFold(n_splits=5, random_state=2024, shuffle=True)\n",
      "Fold 0:\n",
      "  Train: index=[     1      2      3 ... 101420 101421 101422]\n",
      "  Test:  index=[     0      6     12 ... 101398 101407 101412]\n",
      "Fold 1:\n",
      "  Train: index=[     0      2      3 ... 101418 101420 101422]\n",
      "  Test:  index=[     1      9     14 ... 101416 101419 101421]\n",
      "Fold 2:\n",
      "  Train: index=[     0      1      2 ... 101420 101421 101422]\n",
      "  Test:  index=[     3     10     15 ... 101410 101413 101418]\n",
      "Fold 3:\n",
      "  Train: index=[     0      1      3 ... 101420 101421 101422]\n",
      "  Test:  index=[     2      4     11 ... 101406 101414 101417]\n",
      "Fold 4:\n",
      "  Train: index=[     0      1      2 ... 101418 101419 101421]\n",
      "  Test:  index=[     5      7      8 ... 101415 101420 101422]\n",
      "StratifiedGroupKFold(n_splits=10, random_state=2024, shuffle=True)\n",
      "Fold 0:\n",
      "  Train: index=[     1      2      3 ... 101420 101421 101422]\n",
      "  Test:  index=[     0     14     19 ... 101393 101406 101419]\n",
      "Fold 1:\n",
      "  Train: index=[     0      2      3 ... 101420 101421 101422]\n",
      "  Test:  index=[     1     20     31 ... 101407 101408 101416]\n",
      "Fold 2:\n",
      "  Train: index=[     0      1      2 ... 101420 101421 101422]\n",
      "  Test:  index=[     3     13     18 ... 101378 101399 101410]\n",
      "Fold 3:\n",
      "  Train: index=[     0      1      2 ... 101419 101420 101422]\n",
      "  Test:  index=[     4     12     32 ... 101413 101414 101421]\n",
      "Fold 4:\n",
      "  Train: index=[     0      1      2 ... 101419 101420 101421]\n",
      "  Test:  index=[     5     21     36 ... 101396 101402 101422]\n",
      "Fold 5:\n",
      "  Train: index=[     0      1      2 ... 101420 101421 101422]\n",
      "  Test:  index=[     6     22     23 ... 101377 101398 101418]\n",
      "Fold 6:\n",
      "  Train: index=[     0      1      3 ... 101419 101421 101422]\n",
      "  Test:  index=[     2      8     25 ... 101388 101397 101420]\n",
      "Fold 7:\n",
      "  Train: index=[     0      1      2 ... 101420 101421 101422]\n",
      "  Test:  index=[     9     24     26 ... 101395 101411 101417]\n",
      "Fold 8:\n",
      "  Train: index=[     0      1      2 ... 101420 101421 101422]\n",
      "  Test:  index=[    10     15     39 ... 101342 101391 101404]\n",
      "Fold 9:\n",
      "  Train: index=[     0      1      2 ... 101420 101421 101422]\n",
      "  Test:  index=[     7     11     16 ... 101400 101405 101415]\n"
     ]
    }
   ],
   "source": [
    "n_folds = 5\n",
    "skf = StratifiedGroupKFold(n_splits=n_folds, shuffle=True, random_state=seed)\n",
    "print(skf)\n",
    "for i, (train_index, test_index) in enumerate(skf.split(df_train, df_train['Final Label'], groups=df_train['generated_patient_id'])):\n",
    "    fold_dir = f'folds/final_label_split_grouped_by_pid_full/train_val/{n_folds}_fold/{i}'\n",
    "    os.makedirs(fold_dir, exist_ok=True)\n",
    "    \n",
    "    print(f\"Fold {i}:\")\n",
    "    print(f\"  Train: index={train_index}\")\n",
    "    print(f\"  Test:  index={test_index}\")\n",
    "    df_train.iloc[train_index].to_csv(os.path.join(fold_dir, 'train.csv'), index=False)\n",
    "    df_train.iloc[test_index].to_csv(os.path.join(fold_dir, 'valid.csv'), index=False)\n",
    "    \n",
    "n_folds = 10\n",
    "skf = StratifiedGroupKFold(n_splits=n_folds, shuffle=True, random_state=seed)\n",
    "print(skf)\n",
    "for i, (train_index, test_index) in enumerate(skf.split(df_train, df_train['Final Label'], groups=df_train['generated_patient_id'])):\n",
    "    fold_dir = f'folds/final_label_split_grouped_by_pid_full/train_val/{n_folds}_fold/{i}'\n",
    "    os.makedirs(fold_dir, exist_ok=True)\n",
    "    \n",
    "    print(f\"Fold {i}:\")\n",
    "    print(f\"  Train: index={train_index}\")\n",
    "    print(f\"  Test:  index={test_index}\")\n",
    "    df_train.iloc[train_index].to_csv(os.path.join(fold_dir, 'train.csv'), index=False)\n",
    "    df_train.iloc[test_index].to_csv(os.path.join(fold_dir, 'valid.csv'), index=False)\n",
    "    "
   ]
  }
 ],
 "metadata": {
  "kernelspec": {
   "display_name": "Python 3 (ipykernel)",
   "language": "python",
   "name": "python3"
  },
  "language_info": {
   "codemirror_mode": {
    "name": "ipython",
    "version": 3
   },
   "file_extension": ".py",
   "mimetype": "text/x-python",
   "name": "python",
   "nbconvert_exporter": "python",
   "pygments_lexer": "ipython3",
   "version": "3.8.10"
  }
 },
 "nbformat": 4,
 "nbformat_minor": 5
}
